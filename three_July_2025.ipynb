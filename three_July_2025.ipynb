{
  "nbformat": 4,
  "nbformat_minor": 0,
  "metadata": {
    "colab": {
      "provenance": []
    },
    "kernelspec": {
      "name": "python3",
      "display_name": "Python 3"
    },
    "language_info": {
      "name": "python"
    }
  },
  "cells": [
    {
      "cell_type": "markdown",
      "source": [
        "fint the largest of two numbers"
      ],
      "metadata": {
        "id": "lKHo0bJgVYox"
      }
    },
    {
      "cell_type": "code",
      "execution_count": 13,
      "metadata": {
        "colab": {
          "base_uri": "https://localhost:8080/"
        },
        "id": "VJWGFkOuVWH3",
        "outputId": "674aa84c-5cc7-413d-ec93-95b7325dceb4"
      },
      "outputs": [
        {
          "output_type": "stream",
          "name": "stdout",
          "text": [
            "enter first number: 14\n",
            "enter second number: 77\n",
            "77 is greater\n"
          ]
        }
      ],
      "source": [
        "x = int(input(\"enter first number: \"))\n",
        "y = int(input(\"enter second number: \"))\n",
        "if x>y:\n",
        "  print(x, \"is greater\")\n",
        "else:\n",
        "  print(y, \"is greater\")"
      ]
    },
    {
      "cell_type": "markdown",
      "source": [
        "check a no. is positive , negative or zero"
      ],
      "metadata": {
        "id": "-2p-Vh0yVg-V"
      }
    },
    {
      "cell_type": "code",
      "source": [
        "\n",
        "\n",
        "num = float(input(\"Enter a number: \"))\n",
        "if num > 0 :\n",
        "  print(\"Positive number\")\n",
        "elif num == 0 :\n",
        "  print(\"Zero\")\n",
        "else:\n",
        "  print(\"Negative number\")\n"
      ],
      "metadata": {
        "colab": {
          "base_uri": "https://localhost:8080/"
        },
        "id": "PnBHxV9EVnwt",
        "outputId": "8e5cebe2-1638-4bad-c250-a06bc4283327"
      },
      "execution_count": 4,
      "outputs": [
        {
          "output_type": "stream",
          "name": "stdout",
          "text": [
            "Enter a number: 6\n",
            "Positive number\n"
          ]
        }
      ]
    },
    {
      "cell_type": "markdown",
      "source": [
        "swap two variables"
      ],
      "metadata": {
        "id": "N8rl5-EXVn_2"
      }
    },
    {
      "cell_type": "code",
      "source": [],
      "metadata": {
        "id": "Tuyeyc7yVr0V"
      },
      "execution_count": null,
      "outputs": []
    },
    {
      "cell_type": "markdown",
      "source": [
        "print the multiplication number of a table"
      ],
      "metadata": {
        "id": "G4ey76DWVsNG"
      }
    },
    {
      "cell_type": "code",
      "source": [
        "x = 8\n",
        "for i in range (1,11,1):\n",
        "  print(x*i)"
      ],
      "metadata": {
        "colab": {
          "base_uri": "https://localhost:8080/"
        },
        "id": "Tgin3LTlV09e",
        "outputId": "3ca9f5f0-71cc-4877-8dcc-9b76ac0e8ba3"
      },
      "execution_count": 9,
      "outputs": [
        {
          "output_type": "stream",
          "name": "stdout",
          "text": [
            "8\n",
            "16\n",
            "24\n",
            "32\n",
            "40\n",
            "48\n",
            "56\n",
            "64\n",
            "72\n",
            "80\n"
          ]
        }
      ]
    },
    {
      "cell_type": "markdown",
      "source": [
        "sum of all digits in a number"
      ],
      "metadata": {
        "id": "UAtOKRH1V1U9"
      }
    },
    {
      "cell_type": "code",
      "source": [
        "num = input (\"enter a number : \")\n",
        "print(\"sum of all digits : \" , sum(map(int , num )))\n"
      ],
      "metadata": {
        "colab": {
          "base_uri": "https://localhost:8080/"
        },
        "id": "v3O1yXCzV8bV",
        "outputId": "01b16cf9-6b31-4cd4-e50e-2b6b42f3588e"
      },
      "execution_count": 19,
      "outputs": [
        {
          "output_type": "stream",
          "name": "stdout",
          "text": [
            "enter a number : 15\n",
            "sum of all digits :  6\n"
          ]
        }
      ]
    },
    {
      "cell_type": "markdown",
      "source": [
        "print revrese order of list of number"
      ],
      "metadata": {
        "id": "b5as1yzIV8tW"
      }
    },
    {
      "cell_type": "code",
      "source": [
        "list = [10 , 20 , 30 , 40 , 50]"
      ],
      "metadata": {
        "id": "eM8LB-DUWC9j"
      },
      "execution_count": null,
      "outputs": []
    },
    {
      "cell_type": "markdown",
      "source": [
        "check th vowels present in a string"
      ],
      "metadata": {
        "id": "e5XqnvuyWDR3"
      }
    },
    {
      "cell_type": "code",
      "source": [
        "string = input(\"enter the string\")\n",
        "vowels = \"aeiouAEIOU\"\n",
        "print(\"vowels are : \")\n",
        "\n",
        "for ch in string:\n",
        "  if ch not in vowels:\n",
        "    print(ch)"
      ],
      "metadata": {
        "colab": {
          "base_uri": "https://localhost:8080/"
        },
        "id": "lkjjQnHmWL4q",
        "outputId": "5c7e4f3e-3201-4456-ec9b-2f817b3a73e9"
      },
      "execution_count": 2,
      "outputs": [
        {
          "output_type": "stream",
          "name": "stdout",
          "text": [
            "enter the string ia am a versatile animal\n",
            "vowels are : \n",
            " \n",
            " \n",
            "m\n",
            " \n",
            " \n",
            "v\n",
            "r\n",
            "s\n",
            "t\n",
            "l\n",
            " \n",
            "n\n",
            "m\n",
            "l\n"
          ]
        }
      ]
    }
  ]
}