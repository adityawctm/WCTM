{
  "nbformat": 4,
  "nbformat_minor": 0,
  "metadata": {
    "colab": {
      "provenance": []
    },
    "kernelspec": {
      "name": "python3",
      "display_name": "Python 3"
    },
    "language_info": {
      "name": "python"
    }
  },
  "cells": [
    {
      "cell_type": "code",
      "execution_count": null,
      "metadata": {
        "colab": {
          "base_uri": "https://localhost:8080/"
        },
        "id": "XI7UIKyAzltP",
        "outputId": "299e935d-1ac8-42b7-ad95-5cad5ecfcb90"
      },
      "outputs": [
        {
          "output_type": "stream",
          "name": "stdout",
          "text": [
            "hello world\n"
          ]
        }
      ],
      "source": [
        "print (\"hello world\")"
      ]
    },
    {
      "cell_type": "markdown",
      "source": [
        "1. ques 1\n"
      ],
      "metadata": {
        "id": "5gp5guqk7ISW"
      }
    },
    {
      "cell_type": "code",
      "source": [
        "for i in range (1,21,1):\n",
        "  print(i)"
      ],
      "metadata": {
        "colab": {
          "base_uri": "https://localhost:8080/"
        },
        "id": "ZNXKKrvNz8L2",
        "outputId": "22c1dfef-c14f-4c68-f6d6-2bf7a357c28b"
      },
      "execution_count": null,
      "outputs": [
        {
          "output_type": "stream",
          "name": "stdout",
          "text": [
            "1\n",
            "2\n",
            "3\n",
            "4\n",
            "5\n",
            "6\n",
            "7\n",
            "8\n",
            "9\n",
            "10\n",
            "11\n",
            "12\n",
            "13\n",
            "14\n",
            "15\n",
            "16\n",
            "17\n",
            "18\n",
            "19\n",
            "20\n"
          ]
        }
      ]
    },
    {
      "cell_type": "markdown",
      "source": [
        "2. write a code for table of 5"
      ],
      "metadata": {
        "id": "KuXCRZJ82yTK"
      }
    },
    {
      "cell_type": "markdown",
      "source": [],
      "metadata": {
        "id": "iK_AgZID7Oh2"
      }
    },
    {
      "cell_type": "code",
      "source": [
        "i = 5\n",
        "for k in range ( 1,11,1):\n",
        "  print(i , '*' , k , '=' , i*k)"
      ],
      "metadata": {
        "colab": {
          "base_uri": "https://localhost:8080/"
        },
        "id": "nP_oiDTM2KFe",
        "outputId": "55dfdfb5-e632-4b58-ad22-15e58130ef01"
      },
      "execution_count": null,
      "outputs": [
        {
          "output_type": "stream",
          "name": "stdout",
          "text": [
            "5 * 1 = 5 5\n",
            "5 * 2 = 10 10\n",
            "5 * 3 = 15 15\n",
            "5 * 4 = 20 20\n",
            "5 * 5 = 25 25\n",
            "5 * 6 = 30 30\n",
            "5 * 7 = 35 35\n",
            "5 * 8 = 40 40\n",
            "5 * 9 = 45 45\n",
            "5 * 10 = 50 50\n"
          ]
        }
      ]
    },
    {
      "cell_type": "markdown",
      "source": [
        "3. write a code to print vowels"
      ],
      "metadata": {
        "id": "8IIeOVXV5ewj"
      }
    },
    {
      "cell_type": "code",
      "source": [
        "\n",
        "\n",
        "\n"
      ],
      "metadata": {
        "id": "w-qMzf6Q5L6q"
      },
      "execution_count": null,
      "outputs": []
    },
    {
      "cell_type": "markdown",
      "source": [
        "4. write a code to print area of rectangle\n"
      ],
      "metadata": {
        "id": "ipcW3AMt6Rp_"
      }
    },
    {
      "cell_type": "code",
      "source": [
        "l=5\n",
        "b=10.9\n",
        "print(\"area of rectangle\",l*b)"
      ],
      "metadata": {
        "id": "4QKxLJzz6L8f",
        "colab": {
          "base_uri": "https://localhost:8080/"
        },
        "outputId": "7cfe0c84-10e8-4faf-9366-c271883d5509"
      },
      "execution_count": null,
      "outputs": [
        {
          "output_type": "stream",
          "name": "stdout",
          "text": [
            "area of rectangle 54.5\n"
          ]
        }
      ]
    },
    {
      "cell_type": "markdown",
      "source": [
        "5. write a code to print area of circle"
      ],
      "metadata": {
        "id": "W1BGsNMP6Y7B"
      }
    },
    {
      "cell_type": "code",
      "source": [
        "r =8\n",
        "print(\"area of circle\", 3.14*r*r)"
      ],
      "metadata": {
        "id": "10BK7fDt6yHU",
        "colab": {
          "base_uri": "https://localhost:8080/"
        },
        "outputId": "e9a41c6f-3e97-4d67-a5db-efa154481003"
      },
      "execution_count": null,
      "outputs": [
        {
          "output_type": "stream",
          "name": "stdout",
          "text": [
            "area of circle 200.96\n"
          ]
        }
      ]
    },
    {
      "cell_type": "markdown",
      "source": [
        "6. write a code print your name , course name , email adress"
      ],
      "metadata": {
        "id": "SSNkCBrT6yvJ"
      }
    },
    {
      "cell_type": "code",
      "source": [
        "print (\"name : aditya\")\n",
        "print (\"college name : wctm \")\n",
        "print (\"mobile : 999000xxx9\")\n",
        "print (\"email : michealdecenta@gmail.com\")\n"
      ],
      "metadata": {
        "id": "9uzurzxX66OV",
        "colab": {
          "base_uri": "https://localhost:8080/"
        },
        "outputId": "e5d1eefd-e100-4c37-e3a9-e57cb9bd11de"
      },
      "execution_count": null,
      "outputs": [
        {
          "output_type": "stream",
          "name": "stdout",
          "text": [
            "name : aditya\n",
            "college name : wctm \n",
            "mobile : 999000xxx9\n",
            "email : michealdecenta@gmail.com\n"
          ]
        }
      ]
    },
    {
      "cell_type": "markdown",
      "source": [
        "7. write a code to print all non vowels in agiven string"
      ],
      "metadata": {
        "id": "ViVYMEE-66cb"
      }
    },
    {
      "cell_type": "code",
      "source": [],
      "metadata": {
        "id": "HEzQM40_7DLi"
      },
      "execution_count": null,
      "outputs": []
    },
    {
      "cell_type": "markdown",
      "source": [
        "8. write a code to display definition of python"
      ],
      "metadata": {
        "id": "s4zJWB4kNLtK"
      }
    },
    {
      "cell_type": "code",
      "source": [
        "print (\"What is Python Programming Language? \")\n",
        "print (\"Python is a high-level, versatile, and interpreted programming language known for its readability and ease of use.\")"
      ],
      "metadata": {
        "id": "3itlycWdNSfh",
        "colab": {
          "base_uri": "https://localhost:8080/"
        },
        "outputId": "dad778a0-4f52-4b13-bb21-06ab91f98dfb"
      },
      "execution_count": null,
      "outputs": [
        {
          "output_type": "stream",
          "name": "stdout",
          "text": [
            "What is Python Programming Language? \n",
            "Python GeeksPython is a high-level, versatile, and interpreted programming language known for its readability and ease of use.\n"
          ]
        }
      ]
    },
    {
      "cell_type": "markdown",
      "source": [
        "9. write a code to display odd / even numbers"
      ],
      "metadata": {
        "id": "ejnOEZ8yNS1p"
      }
    },
    {
      "cell_type": "code",
      "source": [
        "y = 3\n",
        "if(y%2==0):\n",
        "  print(y ,\" is odd \")\n",
        "else :\n",
        "  print(y , \" is odd \")"
      ],
      "metadata": {
        "colab": {
          "base_uri": "https://localhost:8080/"
        },
        "id": "5FSJsqfeNaCD",
        "outputId": "506c1d4f-1d5f-4322-c0f5-08f713e64575"
      },
      "execution_count": null,
      "outputs": [
        {
          "output_type": "stream",
          "name": "stdout",
          "text": [
            "3  is odd \n"
          ]
        }
      ]
    },
    {
      "cell_type": "markdown",
      "source": [
        "10. write a code to show the largest numbers? (user input parametersa, b)"
      ],
      "metadata": {
        "id": "2l8kAB_uNalO"
      }
    },
    {
      "cell_type": "code",
      "source": [
        "a = 5\n",
        "b = 8\n",
        "if (a>b):\n",
        "  print(\"a is bixxer\")\n",
        "else:\n",
        "  print(\"b is bixxer\")"
      ],
      "metadata": {
        "colab": {
          "base_uri": "https://localhost:8080/"
        },
        "id": "BM5rgAFpQ99U",
        "outputId": "781eb95e-b4b9-44fc-b7ae-8b468d9f6295"
      },
      "execution_count": null,
      "outputs": [
        {
          "output_type": "stream",
          "name": "stdout",
          "text": [
            "b is bixxer\n"
          ]
        }
      ]
    },
    {
      "cell_type": "markdown",
      "source": [
        "THURSDAY 3 JULY 2025"
      ],
      "metadata": {
        "id": "mxBNqvFE7Dpw"
      }
    },
    {
      "cell_type": "markdown",
      "source": [
        "terneary operators in python"
      ],
      "metadata": {
        "id": "QmZikUjTv2_B"
      }
    },
    {
      "cell_type": "code",
      "source": [
        "a,b = 10,20\n",
        "min = a if a < b else b\n",
        "print (min)\n",
        "\n",
        "\n",
        "\n",
        "\n"
      ],
      "metadata": {
        "colab": {
          "base_uri": "https://localhost:8080/"
        },
        "id": "kwB6ZogmwaAw",
        "outputId": "7c65e7fa-7538-4913-d656-6095e677535d"
      },
      "execution_count": null,
      "outputs": [
        {
          "output_type": "stream",
          "name": "stdout",
          "text": [
            "10\n"
          ]
        }
      ]
    },
    {
      "cell_type": "code",
      "source": [
        "a , b = 15 ,25\n",
        "max = a if a > b else b\n",
        "print(max)\n",
        "min = a if a < b else b\n",
        "print(min)\n",
        "\n"
      ],
      "metadata": {
        "colab": {
          "base_uri": "https://localhost:8080/"
        },
        "id": "e1nj1X-Ywvb0",
        "outputId": "62852803-b23f-4473-e6a2-bbe101b7bd62"
      },
      "execution_count": null,
      "outputs": [
        {
          "output_type": "stream",
          "name": "stdout",
          "text": [
            "25\n",
            "15\n"
          ]
        }
      ]
    },
    {
      "cell_type": "markdown",
      "source": [
        "MEMEBERSHIP OPERATORS"
      ],
      "metadata": {
        "id": "yZJZDIA5yKL9"
      }
    },
    {
      "cell_type": "code",
      "source": [
        "x = 20\n",
        "y = 24\n",
        "list = [10 , 20 , 30 , 40 , 50]\n",
        "if (x not in list):\n",
        "     print(\"x is not present in given list\")\n",
        "else:\n",
        "     print(\"x is given in list\")\n",
        "if (y  in list):\n",
        "     print(\"y is given is list\")\n",
        "else:\n",
        "     print(\"y is not given in the list\")"
      ],
      "metadata": {
        "colab": {
          "base_uri": "https://localhost:8080/"
        },
        "id": "0w1qXIRfyORa",
        "outputId": "8550da66-a954-4629-9e49-63503f953e1a"
      },
      "execution_count": null,
      "outputs": [
        {
          "output_type": "stream",
          "name": "stdout",
          "text": [
            "x is given in list\n",
            "y is not given in the list\n"
          ]
        }
      ]
    },
    {
      "cell_type": "code",
      "source": [],
      "metadata": {
        "id": "XvUvfFB-0F-3"
      },
      "execution_count": null,
      "outputs": []
    },
    {
      "cell_type": "markdown",
      "source": [
        "operators precedence in pytho"
      ],
      "metadata": {
        "id": "-hH1H0Fn1VLV"
      }
    },
    {
      "cell_type": "code",
      "source": [
        "expr = 10 + 20 * 30\n",
        "print(expr)\n",
        "name = \"john\"\n",
        "age = -1\n",
        "if name == \"micheal\" or name ==\"john\" and age >= 2:\n",
        "  print(\"hellow welcome,\")\n",
        "else:\n",
        "  print (\"good bye !\")"
      ],
      "metadata": {
        "colab": {
          "base_uri": "https://localhost:8080/"
        },
        "id": "edxXxB5J1ZCv",
        "outputId": "4e0522e4-fb66-49b4-f81f-c5b4a91d1dc7"
      },
      "execution_count": null,
      "outputs": [
        {
          "output_type": "stream",
          "name": "stdout",
          "text": [
            "610\n",
            "good bye !\n"
          ]
        }
      ]
    },
    {
      "cell_type": "code",
      "source": [
        "expr = 10 + 20 * 30\n",
        "print(expr)\n",
        "name = \"john\"\n",
        "age = 20\n",
        "if name == \"micheal\" and name ==\"john\" :\n",
        "  print(\"hellow welcome,\")\n",
        "else:\n",
        "  print (\"good bye !\")\n",
        "if name == \"micheal\" or  name ==\"john\" :\n",
        "  print(\"hellow welcome,\")\n",
        "else:\n",
        "  print (\"good bye !\")\n",
        "if name == \"micheal\" or  name ==\"john\" and age >= 21:\n",
        "  print(\"hellow welcome,\")\n",
        "else:\n",
        "  print (\"good bye !\")"
      ],
      "metadata": {
        "colab": {
          "base_uri": "https://localhost:8080/"
        },
        "id": "9qrivOT33fW0",
        "outputId": "961ab31e-2bc7-4c3a-9cfb-b4e2695a13f0"
      },
      "execution_count": null,
      "outputs": [
        {
          "output_type": "stream",
          "name": "stdout",
          "text": [
            "610\n",
            "good bye !\n",
            "hellow welcome,\n",
            "good bye !\n"
          ]
        }
      ]
    },
    {
      "cell_type": "code",
      "source": [],
      "metadata": {
        "id": "KD6GalGK3Eid"
      },
      "execution_count": null,
      "outputs": []
    },
    {
      "cell_type": "markdown",
      "source": [
        "write a difference between '=' and \"==\""
      ],
      "metadata": {
        "id": "OxwUefPa9NXV"
      }
    },
    {
      "cell_type": "code",
      "source": [],
      "metadata": {
        "id": "oZitjw_l9lkl"
      },
      "execution_count": null,
      "outputs": []
    },
    {
      "cell_type": "markdown",
      "source": [
        "write a example of memebership operator"
      ],
      "metadata": {
        "id": "VH3xz4Ul9l2R"
      }
    },
    {
      "cell_type": "code",
      "source": [],
      "metadata": {
        "id": "UfU0yHHp9sSf"
      },
      "execution_count": null,
      "outputs": []
    },
    {
      "cell_type": "markdown",
      "source": [
        "wriet a code of area of equilateral triangle ( area should be in float )"
      ],
      "metadata": {
        "id": "N9NsM9hq9s2c"
      }
    },
    {
      "cell_type": "code",
      "source": [],
      "metadata": {
        "id": "2vgKTH3W93qY"
      },
      "execution_count": null,
      "outputs": []
    },
    {
      "cell_type": "markdown",
      "source": [
        "write the code for area of rhombus"
      ],
      "metadata": {
        "id": "qvtxaFsC92xV"
      }
    },
    {
      "cell_type": "code",
      "source": [],
      "metadata": {
        "id": "AOo6KTmM99Pb"
      },
      "execution_count": null,
      "outputs": []
    },
    {
      "cell_type": "markdown",
      "source": [
        "wriete a code od comparong 3 numbers and displaying the largest midllle and smallest"
      ],
      "metadata": {
        "id": "zSv57j8g99c9"
      }
    },
    {
      "cell_type": "code",
      "source": [],
      "metadata": {
        "id": "iB68zTar_gRn"
      },
      "execution_count": null,
      "outputs": []
    },
    {
      "cell_type": "markdown",
      "source": [
        "write a cod eof making calculator with different cases of operators and with display the result"
      ],
      "metadata": {
        "id": "qLUXdz6f-Idm"
      }
    },
    {
      "cell_type": "code",
      "source": [],
      "metadata": {
        "id": "UidvGNAI-WSj"
      },
      "execution_count": null,
      "outputs": []
    },
    {
      "cell_type": "markdown",
      "source": [
        "write a code of comparting 2 students with the details like name course and ccollege name , email id and phone numbers  "
      ],
      "metadata": {
        "id": "Fk5SSB7C-V6Y"
      }
    },
    {
      "cell_type": "code",
      "source": [],
      "metadata": {
        "id": "VNvbjNHX-nQx"
      },
      "execution_count": null,
      "outputs": []
    },
    {
      "cell_type": "markdown",
      "source": [
        "write a code of listing the 10 students detail wiyh predefined tyhe details in the code"
      ],
      "metadata": {
        "id": "vjQGBTpk-n7O"
      }
    },
    {
      "cell_type": "code",
      "source": [],
      "metadata": {
        "id": "Wo2O29aj-zo9"
      },
      "execution_count": null,
      "outputs": []
    },
    {
      "cell_type": "markdown",
      "source": [
        "write a code of using if else statement with while loop with example and also the defination of all 3"
      ],
      "metadata": {
        "id": "6NWgPz6L-0Dy"
      }
    },
    {
      "cell_type": "code",
      "source": [],
      "metadata": {
        "id": "vR7AfME3_EnK"
      },
      "execution_count": null,
      "outputs": []
    },
    {
      "cell_type": "markdown",
      "source": [
        "write a code like social media id password whether to check th eid and password in this and the display there name name if the person is authentic"
      ],
      "metadata": {
        "id": "XfCch8Zj_E9S"
      }
    }
  ]
}